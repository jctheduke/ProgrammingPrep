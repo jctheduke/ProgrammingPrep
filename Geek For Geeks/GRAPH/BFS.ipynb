{
 "cells": [
  {
   "cell_type": "code",
   "execution_count": 1,
   "metadata": {
    "collapsed": true
   },
   "outputs": [],
   "source": [
    "# BFS IN GRAPH"
   ]
  },
  {
   "cell_type": "markdown",
   "metadata": {},
   "source": [
    "Unlike tree, graph can contains cycles,so we have to keep track of the visisted node in graph."
   ]
  },
  {
   "cell_type": "code",
   "execution_count": 11,
   "metadata": {
    "collapsed": false
   },
   "outputs": [],
   "source": [
    "from collections import defaultdict\n",
    "\n",
    "class Graph(object):\n",
    "    \n",
    "    def __init__(self):\n",
    "        \n",
    "        self.graph = defaultdict(list)\n",
    "    \n",
    "    def addEdge(self,u,v):\n",
    "        # directed graph.\n",
    "        self.graph[u].append(v)\n",
    "    \n",
    "    # Default function to print BFS of a graph.\n",
    "    def BFS(self,s):\n",
    "        \n",
    "        # marking all as unvisited vertices\n",
    "        visited = defaultdict(bool)\n",
    "        \n",
    "        queue = []\n",
    "        \n",
    "        queue.append(s)\n",
    "        visited[s] = True\n",
    "        \n",
    "        while(queue):\n",
    "            \n",
    "            pop_vertex = queue.pop(0)\n",
    "            print(pop_vertex)\n",
    "            \n",
    "            for node in self.graph[pop_vertex]:\n",
    "                if not visited[node]:\n",
    "                    queue.append(node)\n",
    "                    visited[node] = True"
   ]
  },
  {
   "cell_type": "code",
   "execution_count": 12,
   "metadata": {
    "collapsed": true
   },
   "outputs": [],
   "source": [
    "g = Graph()\n",
    "g.addEdge(0, 1)\n",
    "g.addEdge(0, 2)\n",
    "g.addEdge(1, 2)\n",
    "g.addEdge(2, 0)\n",
    "g.addEdge(2, 3)\n",
    "g.addEdge(3, 3)"
   ]
  },
  {
   "cell_type": "code",
   "execution_count": 13,
   "metadata": {
    "collapsed": false
   },
   "outputs": [
    {
     "name": "stdout",
     "output_type": "stream",
     "text": [
      "2\n",
      "0\n",
      "3\n",
      "1\n"
     ]
    }
   ],
   "source": [
    "g.BFS(2)"
   ]
  },
  {
   "cell_type": "code",
   "execution_count": null,
   "metadata": {
    "collapsed": true
   },
   "outputs": [],
   "source": []
  }
 ],
 "metadata": {
  "kernelspec": {
   "display_name": "Python 3",
   "language": "python",
   "name": "python3"
  },
  "language_info": {
   "codemirror_mode": {
    "name": "ipython",
    "version": 3
   },
   "file_extension": ".py",
   "mimetype": "text/x-python",
   "name": "python",
   "nbconvert_exporter": "python",
   "pygments_lexer": "ipython3",
   "version": "3.6.0"
  }
 },
 "nbformat": 4,
 "nbformat_minor": 2
}
