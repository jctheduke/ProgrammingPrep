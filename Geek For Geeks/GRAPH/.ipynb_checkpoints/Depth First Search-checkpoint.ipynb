{
 "cells": [
  {
   "cell_type": "markdown",
   "metadata": {},
   "source": [
    "Applications of Depth First Search\n",
    "Depth-first search (DFS) is an algorithm (or technique) for traversing a graph.\n",
    "\n",
    "Following are the problems that use DFS as a bulding block.\n",
    "\n",
    "1) For an unweighted graph, DFS traversal of the graph produces the minimum spanning tree and all pair shortest path tree.\n",
    "\n",
    "2) Detecting cycle in a graph \n",
    "A graph has cycle if and only if we see a back edge during DFS. So we can run DFS for the graph and check for back edges. (See this for details)\n",
    "\n",
    "3) Path Finding\n",
    "We can specialize the DFS algorithm to find a path between two given vertices u and z.\n",
    "i) Call DFS(G, u) with u as the start vertex.\n",
    "ii) Use a stack S to keep track of the path between the start vertex and the current vertex.\n",
    "iii) As soon as destination vertex z is encountered, return the path as the\n",
    "contents of the stack\n",
    "\n",
    "See this for details.\n",
    "\n",
    "4) Topological Sorting\n",
    "Topological Sorting is mainly used for scheduling jobs from the given dependencies among jobs. In computer science, applications of this type arise in instruction scheduling, ordering of formula cell evaluation when recomputing formula values in spreadsheets, logic synthesis, determining the order of compilation tasks to perform in makefiles, data serialization, and resolving symbol dependencies in linkers [2].\n",
    "\n",
    "5) To test if a graph is bipartite\n",
    "We can augment either BFS or DFS when we first discover a new vertex, color it opposited its parents, and for each other edge, check it doesn’t link two vertices of the same color. The first vertex in any connected component can be red or black! See this for details.\n",
    "\n",
    "6) Finding Strongly Connected Components of a graph A directed graph is called strongly connected if there is a path from each vertex in the graph to every other vertex. (See this for DFS based algo for finding Strongly Connected Components)\n",
    "\n",
    "7) Solving puzzles with only one solution, such as mazes. (DFS can be adapted to find all solutions to a maze by only including nodes on the current path in the visited set.)"
   ]
  },
  {
   "cell_type": "code",
   "execution_count": 1,
   "metadata": {
    "collapsed": true
   },
   "outputs": [],
   "source": [
    "# Depth First Search"
   ]
  },
  {
   "cell_type": "code",
   "execution_count": 1,
   "metadata": {
    "collapsed": true
   },
   "outputs": [],
   "source": [
    "from collections import defaultdict"
   ]
  },
  {
   "cell_type": "code",
   "execution_count": 11,
   "metadata": {
    "collapsed": false
   },
   "outputs": [],
   "source": [
    "class Graph:\n",
    "    \n",
    "    # constructor\n",
    "    def __init__(self):\n",
    "        \n",
    "        self.graph = defaultdict(list)\n",
    "    \n",
    "    def add_edge(self, u, v):\n",
    "        self.graph[u].append(v)\n",
    "        \n",
    "    def dfs_util(self,v,visited):\n",
    "        \n",
    "        visited[v] = True\n",
    "        print(v)\n",
    "        \n",
    "        for i in self.graph[v]:\n",
    "            if visited[v] == False:\n",
    "                self.dfs_util(i,visited)\n",
    "    \n",
    "    def dfs(self):\n",
    "        \n",
    "        visited = defaultdict(bool)\n",
    "        \n",
    "        for i in range(len(self.graph)):\n",
    "            if visited[i]==False:\n",
    "                self.dfs_util(i,visited)"
   ]
  },
  {
   "cell_type": "code",
   "execution_count": 12,
   "metadata": {
    "collapsed": false
   },
   "outputs": [
    {
     "name": "stdout",
     "output_type": "stream",
     "text": [
      "Following is Depth First Traversal\n",
      "0\n",
      "1\n",
      "2\n",
      "3\n"
     ]
    }
   ],
   "source": [
    "g = Graph()\n",
    "g.add_edge(0, 1)\n",
    "g.add_edge(0, 2)\n",
    "g.add_edge(1, 2)\n",
    "g.add_edge(2, 0)\n",
    "g.add_edge(2, 3)\n",
    "g.add_edge(3, 3)\n",
    " \n",
    "print (\"Following is Depth First Traversal\")\n",
    "g.dfs()"
   ]
  },
  {
   "cell_type": "code",
   "execution_count": null,
   "metadata": {
    "collapsed": true
   },
   "outputs": [],
   "source": []
  }
 ],
 "metadata": {
  "kernelspec": {
   "display_name": "Python 3",
   "language": "python",
   "name": "python3"
  },
  "language_info": {
   "codemirror_mode": {
    "name": "ipython",
    "version": 3
   },
   "file_extension": ".py",
   "mimetype": "text/x-python",
   "name": "python",
   "nbconvert_exporter": "python",
   "pygments_lexer": "ipython3",
   "version": "3.6.0"
  }
 },
 "nbformat": 4,
 "nbformat_minor": 2
}
