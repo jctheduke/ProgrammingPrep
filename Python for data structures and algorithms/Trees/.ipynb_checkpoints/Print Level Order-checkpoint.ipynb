{
 "cells": [
  {
   "cell_type": "code",
   "execution_count": 1,
   "metadata": {
    "collapsed": true
   },
   "outputs": [],
   "source": [
    "# Print all the numbers in same level with space separation and other levels with new line separation."
   ]
  },
  {
   "cell_type": "code",
   "execution_count": 2,
   "metadata": {
    "collapsed": true
   },
   "outputs": [],
   "source": [
    "# possible test case\n",
    "# Empty tree\n",
    "# single Node\n",
    "# Tree with only single node in all levels\n",
    "# Normal tree.\n"
   ]
  },
  {
   "cell_type": "code",
   "execution_count": 9,
   "metadata": {},
   "outputs": [],
   "source": [
    "def print_order_level(tree):\n",
    "    \n",
    "    if tree == None:\n",
    "        print (\"\")\n",
    "    \n",
    "    elif tree.left == None and tree.right == None:\n",
    "        print (tree.key)\n",
    "    \n",
    "    else:\n",
    "        current_level = []\n",
    "        if tree.left:\n",
    "            current_level.append(tree.left)\n",
    "        if tree.right:\n",
    "            current_level.append(tree.right)\n",
    "        next_level = []\n",
    "        while(current_level):\n",
    "            node = (current_level.pop(0))\n",
    "            print(node.key, sep = \" \")\n",
    "            \n",
    "            if node.left:\n",
    "                next_level.append(node.left)\n",
    "            \n",
    "            if node.right:\n",
    "                next_level.append(node.right)\n",
    "            \n",
    "            if len(current_level) == 0 and len(next_level) != 0:\n",
    "                current_level = next_level\n",
    "                next_level = []\n",
    "                print (\"\")\n",
    "        "
   ]
  },
  {
   "cell_type": "markdown",
   "metadata": {},
   "source": [
    "You can achieve it with single list by keeping the count of current and next level nodes."
   ]
  }
 ],
 "metadata": {
  "kernelspec": {
   "display_name": "Python 3",
   "language": "python",
   "name": "python3"
  },
  "language_info": {
   "codemirror_mode": {
    "name": "ipython",
    "version": 3
   },
   "file_extension": ".py",
   "mimetype": "text/x-python",
   "name": "python",
   "nbconvert_exporter": "python",
   "pygments_lexer": "ipython3",
   "version": "3.6.1"
  }
 },
 "nbformat": 4,
 "nbformat_minor": 2
}
