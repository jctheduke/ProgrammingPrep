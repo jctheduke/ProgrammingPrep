{
 "cells": [
  {
   "cell_type": "markdown",
   "metadata": {},
   "source": [
    "In this question, you will be given a binary search tree and min and max values. Your task is to trim the binary search tree such that there are only values between min and max which are inclusive and still the tree should hold the bianry search tree property."
   ]
  },
  {
   "cell_type": "code",
   "execution_count": 1,
   "metadata": {
    "collapsed": true
   },
   "outputs": [],
   "source": [
    "# Possible text cases\n",
    "# Empty tree\n",
    "# single node\n",
    "# Tree but there wont be values between min and max\n",
    "# Tree with min and max values.\n",
    "# Tree with node between min and max values."
   ]
  },
  {
   "cell_type": "code",
   "execution_count": 2,
   "metadata": {
    "collapsed": true
   },
   "outputs": [],
   "source": [
    "def trim_bst(tree,min_value,max_value):\n",
    "    \n",
    "    if tree == None:\n",
    "        return None\n",
    "    \n",
    "    elif tree.left == None and tree.right == None:\n",
    "        return None \n",
    "    \n",
    "    elif tree.key < min_value or tree.key > max_value:\n",
    "        return None\n",
    "    \n",
    "    else:\n",
    "        if tree.left.key < min_value:\n",
    "            tree.left = None\n",
    "        else:\n",
    "            trim_bst(tree.left,min_value,max_value)\n",
    "        \n",
    "        if tree.right.key > max_value:\n",
    "            tree.right == None\n",
    "        else:\n",
    "            trim_bst(tree.right,min_value,max_value)\n",
    "        \n",
    "        return tree\n",
    "            "
   ]
  },
  {
   "cell_type": "code",
   "execution_count": 3,
   "metadata": {},
   "outputs": [
    {
     "name": "stdout",
     "output_type": "stream",
     "text": [
      "wtf\n"
     ]
    }
   ],
   "source": []
  },
  {
   "cell_type": "code",
   "execution_count": null,
   "metadata": {
    "collapsed": true
   },
   "outputs": [],
   "source": []
  }
 ],
 "metadata": {
  "kernelspec": {
   "display_name": "Python 3",
   "language": "python",
   "name": "python3"
  },
  "language_info": {
   "codemirror_mode": {
    "name": "ipython",
    "version": 3
   },
   "file_extension": ".py",
   "mimetype": "text/x-python",
   "name": "python",
   "nbconvert_exporter": "python",
   "pygments_lexer": "ipython3",
   "version": "3.6.1"
  }
 },
 "nbformat": 4,
 "nbformat_minor": 2
}
