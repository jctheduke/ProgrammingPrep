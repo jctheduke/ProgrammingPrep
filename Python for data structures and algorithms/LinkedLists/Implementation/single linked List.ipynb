{
 "cells": [
  {
   "cell_type": "code",
   "execution_count": 6,
   "metadata": {
    "collapsed": false
   },
   "outputs": [],
   "source": [
    "class Node(object):\n",
    "    def __init__(self,value):\n",
    "        self.value = value\n",
    "        self.next = None"
   ]
  },
  {
   "cell_type": "code",
   "execution_count": 11,
   "metadata": {
    "collapsed": false
   },
   "outputs": [],
   "source": [
    "class SingleLinkedList(object):\n",
    "    \n",
    "    def __init__(self):\n",
    "        self.head = Node(None)\n",
    "        self.tail = Node(None)\n",
    "    \n",
    "    def insert_start(self,value):\n",
    "        \n",
    "        new_node = Node(value)\n",
    "        head_next = self.head.next\n",
    "        \n",
    "        if head_next == None:\n",
    "            self.head.next = new_node\n",
    "            self.tail.next = new_node\n",
    "        else:\n",
    "            self.head.next = new_node\n",
    "        new_node.next = head_next\n",
    "    \n",
    "    def insert_tail(self,value):\n",
    "        \n",
    "        new_node = Node(value)\n",
    "        \n",
    "        if self.tail.next == None:\n",
    "            self.head.next = new_node\n",
    "            self.tail.next = new_node\n",
    "        else:\n",
    "            self.tail.next.next = new_node\n",
    "            self.tail.next = new_node\n",
    "    \n",
    "    def remove_start(self):\n",
    "        \n",
    "        if self.head.next == self.tail.next:\n",
    "            self.head.next == None\n",
    "            self.tail.next == None\n",
    "        else:\n",
    "            self.head.next = self.head.next.next\n",
    "    \n",
    "    def remove_tail(self):\n",
    "        \n",
    "        if self.head.next == None:\n",
    "            pass\n",
    "        else:\n",
    "            node = self.head.next\n",
    "            while(node.next != self.tail.next):\n",
    "                node = node.next\n",
    "            self.tail.next = node\n",
    "            node.next = None\n",
    "            \n",
    "    def insert_before(self,node_value,value):\n",
    "        \n",
    "        new_node = Node(value)\n",
    "        \n",
    "        if self.head.next == None:\n",
    "            \n",
    "            self.head.next = node\n",
    "            self.tail.next = node\n",
    "        \n",
    "        else:\n",
    "            \n",
    "            current_node = self.head.next\n",
    "            while(current_node.next.value != node_value):\n",
    "                current_node = current_node.next\n",
    "                \n",
    "                if current_node.next == None:\n",
    "                    \n",
    "                    current_node.next = new_node\n",
    "                    self.tail.next = new_node\n",
    "                \n",
    "            new_node.next = current_node.next\n",
    "            current_node.next = new_node\n",
    "            \n",
    "    def insert_after(self,node_value,value):\n",
    "        \n",
    "        new_node = Node(value)\n",
    "        \n",
    "        if self.head.next == None:\n",
    "            \n",
    "            self.head.next = node\n",
    "            self.tail.next = node\n",
    "        \n",
    "        else:\n",
    "            \n",
    "            current_node = self.head.next\n",
    "            while(current_node.next.value != node_value):\n",
    "                \n",
    "                current_node = current_node.next\n",
    "                \n",
    "                if current_node.next == None:\n",
    "                    \n",
    "                    current_node.next = new_node\n",
    "                    self.tail.next = new_node\n",
    "                \n",
    "            next_node = current_node.next\n",
    "            \n",
    "            if self.tail.next == next_node:\n",
    "                next_node.next = new_node\n",
    "                self.tail.next = new_node\n",
    "            else:\n",
    "                new_node.next = next_node.next\n",
    "                next_node.next = new_node\n",
    "    \n",
    "    \n",
    "    def delete_after(self,node_value,value):\n",
    "        pass\n",
    "    \n",
    "    def delete_before(self,node_value,value):\n",
    "        pass\n",
    "    \n",
    "      \n",
    "    \n",
    "    def print_list(self):\n",
    "        \n",
    "        if self.head.next == None:\n",
    "            print (\"List is empty\")\n",
    "        \n",
    "        else:\n",
    "            \n",
    "            linked_list = []\n",
    "            node = self.head.next\n",
    "            while(node.next != None):\n",
    "                linked_list.append(node.value)\n",
    "                node = node.next\n",
    "            linked_list.append(node.value)\n",
    "            print (\" \".join(list(map(str,linked_list))))\n",
    "    "
   ]
  },
  {
   "cell_type": "code",
   "execution_count": 22,
   "metadata": {
    "collapsed": true
   },
   "outputs": [],
   "source": [
    "x = SingleLinkedList()"
   ]
  },
  {
   "cell_type": "code",
   "execution_count": 23,
   "metadata": {
    "collapsed": false
   },
   "outputs": [
    {
     "name": "stdout",
     "output_type": "stream",
     "text": [
      "List is empty\n"
     ]
    }
   ],
   "source": [
    "x.print_list()"
   ]
  },
  {
   "cell_type": "code",
   "execution_count": 24,
   "metadata": {
    "collapsed": true
   },
   "outputs": [],
   "source": [
    "x.insert_start(5)"
   ]
  },
  {
   "cell_type": "code",
   "execution_count": 25,
   "metadata": {
    "collapsed": false
   },
   "outputs": [
    {
     "name": "stdout",
     "output_type": "stream",
     "text": [
      "5\n"
     ]
    }
   ],
   "source": [
    "x.print_list()"
   ]
  },
  {
   "cell_type": "code",
   "execution_count": 26,
   "metadata": {
    "collapsed": true
   },
   "outputs": [],
   "source": [
    "x.insert_tail(10)"
   ]
  },
  {
   "cell_type": "code",
   "execution_count": 27,
   "metadata": {
    "collapsed": false
   },
   "outputs": [
    {
     "name": "stdout",
     "output_type": "stream",
     "text": [
      "5 10\n"
     ]
    }
   ],
   "source": [
    "x.print_list()"
   ]
  },
  {
   "cell_type": "code",
   "execution_count": 28,
   "metadata": {
    "collapsed": false
   },
   "outputs": [],
   "source": [
    "x.insert_after(10,4)"
   ]
  },
  {
   "cell_type": "code",
   "execution_count": 29,
   "metadata": {
    "collapsed": false
   },
   "outputs": [
    {
     "name": "stdout",
     "output_type": "stream",
     "text": [
      "5 10 4\n"
     ]
    }
   ],
   "source": [
    "x.print_list()"
   ]
  },
  {
   "cell_type": "code",
   "execution_count": 30,
   "metadata": {
    "collapsed": true
   },
   "outputs": [],
   "source": [
    "x.insert_before(4,6)"
   ]
  },
  {
   "cell_type": "code",
   "execution_count": 31,
   "metadata": {
    "collapsed": false
   },
   "outputs": [
    {
     "name": "stdout",
     "output_type": "stream",
     "text": [
      "5 10 6 4\n"
     ]
    }
   ],
   "source": [
    "x.print_list()"
   ]
  },
  {
   "cell_type": "code",
   "execution_count": 32,
   "metadata": {
    "collapsed": true
   },
   "outputs": [],
   "source": [
    "x.insert_before(6,11)"
   ]
  },
  {
   "cell_type": "code",
   "execution_count": 33,
   "metadata": {
    "collapsed": false
   },
   "outputs": [
    {
     "name": "stdout",
     "output_type": "stream",
     "text": [
      "5 10 11 6 4\n"
     ]
    }
   ],
   "source": [
    "x.print_list()"
   ]
  },
  {
   "cell_type": "code",
   "execution_count": 34,
   "metadata": {
    "collapsed": true
   },
   "outputs": [],
   "source": [
    "x.remove_start()"
   ]
  },
  {
   "cell_type": "code",
   "execution_count": 35,
   "metadata": {
    "collapsed": false
   },
   "outputs": [
    {
     "name": "stdout",
     "output_type": "stream",
     "text": [
      "10 11 6 4\n"
     ]
    }
   ],
   "source": [
    "x.print_list()"
   ]
  },
  {
   "cell_type": "code",
   "execution_count": 36,
   "metadata": {
    "collapsed": true
   },
   "outputs": [],
   "source": [
    "x.remove_tail()"
   ]
  },
  {
   "cell_type": "code",
   "execution_count": 37,
   "metadata": {
    "collapsed": false
   },
   "outputs": [
    {
     "name": "stdout",
     "output_type": "stream",
     "text": [
      "10 11 6\n"
     ]
    }
   ],
   "source": [
    "x.print_list()"
   ]
  },
  {
   "cell_type": "code",
   "execution_count": null,
   "metadata": {
    "collapsed": true
   },
   "outputs": [],
   "source": []
  }
 ],
 "metadata": {
  "kernelspec": {
   "display_name": "Python 3",
   "language": "python",
   "name": "python3"
  },
  "language_info": {
   "codemirror_mode": {
    "name": "ipython",
    "version": 3
   },
   "file_extension": ".py",
   "mimetype": "text/x-python",
   "name": "python",
   "nbconvert_exporter": "python",
   "pygments_lexer": "ipython3",
   "version": "3.6.0"
  }
 },
 "nbformat": 4,
 "nbformat_minor": 2
}
