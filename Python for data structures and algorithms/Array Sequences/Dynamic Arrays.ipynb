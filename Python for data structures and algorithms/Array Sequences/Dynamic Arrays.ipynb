{
 "cells": [
  {
   "cell_type": "markdown",
   "metadata": {},
   "source": [
    "# Dynamic Arrays\n",
    "____\n"
   ]
  },
  {
   "cell_type": "markdown",
   "metadata": {},
   "source": [
    "## Dynamic space allocation for arrays"
   ]
  },
  {
   "cell_type": "code",
   "execution_count": 2,
   "metadata": {
    "collapsed": false
   },
   "outputs": [
    {
     "name": "stdout",
     "output_type": "stream",
     "text": [
      "Length L   0; Size in bytes :   36\n",
      "Length L   1; Size in bytes :   52\n",
      "Length L   2; Size in bytes :   52\n",
      "Length L   3; Size in bytes :   52\n",
      "Length L   4; Size in bytes :   52\n",
      "Length L   5; Size in bytes :   68\n",
      "Length L   6; Size in bytes :   68\n",
      "Length L   7; Size in bytes :   68\n",
      "Length L   8; Size in bytes :   68\n",
      "Length L   9; Size in bytes :  100\n",
      "Length L  10; Size in bytes :  100\n",
      "Length L  11; Size in bytes :  100\n",
      "Length L  12; Size in bytes :  100\n",
      "Length L  13; Size in bytes :  100\n",
      "Length L  14; Size in bytes :  100\n",
      "Length L  15; Size in bytes :  100\n",
      "Length L  16; Size in bytes :  100\n",
      "Length L  17; Size in bytes :  136\n",
      "Length L  18; Size in bytes :  136\n",
      "Length L  19; Size in bytes :  136\n",
      "Length L  20; Size in bytes :  136\n",
      "Length L  21; Size in bytes :  136\n",
      "Length L  22; Size in bytes :  136\n",
      "Length L  23; Size in bytes :  136\n",
      "Length L  24; Size in bytes :  136\n",
      "Length L  25; Size in bytes :  136\n",
      "Length L  26; Size in bytes :  176\n",
      "Length L  27; Size in bytes :  176\n",
      "Length L  28; Size in bytes :  176\n",
      "Length L  29; Size in bytes :  176\n",
      "Length L  30; Size in bytes :  176\n",
      "Length L  31; Size in bytes :  176\n",
      "Length L  32; Size in bytes :  176\n",
      "Length L  33; Size in bytes :  176\n",
      "Length L  34; Size in bytes :  176\n",
      "Length L  35; Size in bytes :  176\n",
      "Length L  36; Size in bytes :  220\n",
      "Length L  37; Size in bytes :  220\n",
      "Length L  38; Size in bytes :  220\n",
      "Length L  39; Size in bytes :  220\n"
     ]
    }
   ],
   "source": [
    "import sys\n",
    "\n",
    "n=40\n",
    "\n",
    "data = []\n",
    "\n",
    "for i in range(n):\n",
    "\n",
    "    # Number of elements in data\n",
    "    a=len(data)\n",
    "    \n",
    "    # Actual size in bytes\n",
    "    b = sys.getsizeof(data)\n",
    "    \n",
    "    print(\"Length L {0:3d}; Size in bytes : {1:4d}\".format(a,b))\n",
    "    \n",
    "    # increase length by one\n",
    "    data.append(n)\n"
   ]
  },
  {
   "cell_type": "code",
   "execution_count": null,
   "metadata": {
    "collapsed": true
   },
   "outputs": [],
   "source": []
  }
 ],
 "metadata": {
  "anaconda-cloud": {},
  "kernelspec": {
   "display_name": "Python [default]",
   "language": "python",
   "name": "python2"
  },
  "language_info": {
   "codemirror_mode": {
    "name": "ipython",
    "version": 2
   },
   "file_extension": ".py",
   "mimetype": "text/x-python",
   "name": "python",
   "nbconvert_exporter": "python",
   "pygments_lexer": "ipython2",
   "version": "2.7.12"
  }
 },
 "nbformat": 4,
 "nbformat_minor": 0
}
