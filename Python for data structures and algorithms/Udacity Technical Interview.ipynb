{
 "cells": [
  {
   "cell_type": "code",
   "execution_count": 1,
   "metadata": {
    "collapsed": true,
    "deletable": true,
    "editable": true
   },
   "outputs": [],
   "source": [
    "# This file contiains questions and answers for the udacity interview questions.\n",
    "from __future__ import division\n",
    "from __future__ import print_function"
   ]
  },
  {
   "cell_type": "markdown",
   "metadata": {
    "deletable": true,
    "editable": true
   },
   "source": [
    "## Question 1"
   ]
  },
  {
   "cell_type": "markdown",
   "metadata": {
    "deletable": true,
    "editable": true
   },
   "source": [
    "Given two strings s and t, determine whether some anagram of t is a substring of s.\n",
    "For example: if s = \"udacity\" and t = \"ad\", then the function returns True.\n",
    "Your function definition should look like: question1(s, t) and return a boolean True or False."
   ]
  },
  {
   "cell_type": "code",
   "execution_count": 2,
   "metadata": {
    "collapsed": false,
    "deletable": true,
    "editable": true
   },
   "outputs": [
    {
     "data": {
      "text/plain": [
       "False"
      ]
     },
     "execution_count": 2,
     "metadata": {},
     "output_type": "execute_result"
    }
   ],
   "source": [
    "def question1(s,t):\n",
    "    ''' Checks if any substring of s is an anagram of t.Returns the truth value'''\n",
    "    if len(t) > len(s):\n",
    "        return False\n",
    "    s = s.upper()\n",
    "    t = t.upper()\n",
    "    counter_s = {}\n",
    "    for x in s:\n",
    "        counter_s[x] = counter_s.get(x,1)+1\n",
    "    for y in t:\n",
    "        if counter_s.get(y,0) == 0:\n",
    "            return False\n",
    "        else:\n",
    "            counter_s[y] -= 1\n",
    "    return True\n",
    "\n",
    "question1(\"udacity\",\"af\")"
   ]
  },
  {
   "cell_type": "markdown",
   "metadata": {},
   "source": [
    "<b>Complexity</b>:\n",
    " 1) One loop of the string s to form a counter dictionary. complexity = len(s)<br>\n",
    " 2) One loop of the string t and search in dictionary will have constant time. so complexity = len(t)<br>\n",
    " As,len(s) >= len(t): Big(O) complexity is O(n).\n",
    " \n",
    "<b>Design:</b>\n",
    "* If length of t is greater that length of s,then no substring of s can be an anagram of t.So,return false\n",
    "* Python strings are case sentive while comparision.So,make both strings upper case.\n",
    "* Two strings can be anagrams only if count of each character is equal.\n",
    "* Use python dictionary to keep track of count of each character.\n",
    "* Check if each character in t is present in s, by subtracting the character counts by 1 from  counter_s.If no character is present return False.\n",
    "* If all the character counts of t are present in s,return True."
   ]
  },
  {
   "cell_type": "markdown",
   "metadata": {
    "deletable": true,
    "editable": true
   },
   "source": [
    "## Question 2"
   ]
  },
  {
   "cell_type": "markdown",
   "metadata": {
    "collapsed": true,
    "deletable": true,
    "editable": true
   },
   "source": [
    "Given a string A, find the longest palindromic substring contained in A. Your function definition should look like question2(a), and return a string."
   ]
  },
  {
   "cell_type": "code",
   "execution_count": 3,
   "metadata": {
    "collapsed": false,
    "deletable": true,
    "editable": true
   },
   "outputs": [],
   "source": [
    "def check_palin(s):\n",
    "    \"\"\" Returns if given string s is a palindromne or not.\"\"\"\n",
    "    s_len = len(s)\n",
    "    \n",
    "    if s_len%2 == 0:\n",
    "        if s[0:s_len//2] == s[:s_len//2-1:-1]:\n",
    "            return True\n",
    "    else:\n",
    "        if s[0:s_len//2] == s[:s_len//2:-1]:\n",
    "            return True\n",
    "    return False"
   ]
  },
  {
   "cell_type": "code",
   "execution_count": 4,
   "metadata": {
    "collapsed": false
   },
   "outputs": [
    {
     "data": {
      "text/plain": [
       "'MALAYALAM'"
      ]
     },
     "execution_count": 4,
     "metadata": {},
     "output_type": "execute_result"
    }
   ],
   "source": [
    "def question2(a):\n",
    "    ''' Returns longest palindrome substring in a given string st'''\n",
    "    st = a.upper()\n",
    "    st_len = len(st)\n",
    "    longest_palindrome = ''\n",
    "    for i in range(len(st)):\n",
    "        j=0\n",
    "        while(i-j>=0 and i+j < st_len):\n",
    "            s1 = st[i-j:i+j+1]\n",
    "            s2 = (st[i-j-1:i+j+1])\n",
    "            if (check_palin(s1) and len(s1)>len(longest_palindrome)):\n",
    "                longest_palindrome = s1\n",
    "            if (check_palin(s2) and len(s2)>len(longest_palindrome)):\n",
    "                longest_palindrome = s2\n",
    "            j += 1\n",
    "    return longest_palindrome\n",
    "question2('abcMalayalamxyz')"
   ]
  },
  {
   "cell_type": "markdown",
   "metadata": {},
   "source": [
    "<b>Complexity</b>\n",
    "1) for each character i in string st"
   ]
  },
  {
   "cell_type": "markdown",
   "metadata": {},
   "source": [
    "## Question 3"
   ]
  },
  {
   "cell_type": "markdown",
   "metadata": {},
   "source": [
    "Given an undirected graph G, find the minimum spanning tree within G. A minimum spanning tree connects all vertices in a graph with the smallest possible total weight of edges. Your function should take in and return an adjacency list structured like this:\n",
    "\n",
    "{'A': [('B', 2)],\n",
    "\n",
    "'B': [('A', 2), ('C', 5)], \n",
    "\n",
    "'C': [('B', 5)]}"
   ]
  },
  {
   "cell_type": "code",
   "execution_count": 5,
   "metadata": {
    "collapsed": false
   },
   "outputs": [],
   "source": [
    "def find_set(v1,v2,union_sets):\n",
    "    ''' Returns to which sets x,y belongs too.If not,returns None '''\n",
    "    index_v1,index_v2 = None,None\n",
    "    for (x,y) in union_sets.items():\n",
    "        if v1 in y:\n",
    "            index_v1 = x\n",
    "        if v2 in y:\n",
    "            index_v2 = x\n",
    "    return index_v1,index_v2"
   ]
  },
  {
   "cell_type": "code",
   "execution_count": 6,
   "metadata": {
    "collapsed": false
   },
   "outputs": [],
   "source": [
    "def  question3(G):\n",
    "    edges = {}\n",
    "    for x,y in G.items():\n",
    "        for edge in y:\n",
    "            edges[(x,edge[0])] = edge[1]\n",
    "    nodes = list(G.keys())\n",
    "    sorted_edges = sorted(edges,key = lambda x : edges[x] )\n",
    "\n",
    "    union_sets = {}\n",
    "    union_set_index = 0\n",
    "    MST= {}\n",
    "    for (v1,v2) in sorted_edges:\n",
    "        i,j = find_set(v1,v2,union_sets)\n",
    "        if not(i == j and i!=None):\n",
    "            weight = edges[(v1,v2)]\n",
    "            if i == None and j == None:\n",
    "                union_sets[union_set_index] = {v1,v2}\n",
    "                union_set_index += 1\n",
    "            elif i == None:\n",
    "                union_sets[j] = union_sets[j].union({v1})\n",
    "            elif j == None:\n",
    "                union_sets[i] = union_sets[i].union({v2})\n",
    "            elif i != j :\n",
    "                union_sets[i] = union_sets[i].union(union_sets[j])\n",
    "                del(union_sets[j])\n",
    "            MST[v1] = MST.get(v1,[])+[(v2,weight)]\n",
    "            MST[v2] = MST.get(v2,[])+[(v1,weight)]\n",
    "    return MST"
   ]
  },
  {
   "cell_type": "code",
   "execution_count": 7,
   "metadata": {
    "collapsed": false
   },
   "outputs": [
    {
     "data": {
      "text/plain": [
       "{'A': [('B', 2)], 'B': [('A', 2), ('C', 5)], 'C': [('B', 5)]}"
      ]
     },
     "execution_count": 7,
     "metadata": {},
     "output_type": "execute_result"
    }
   ],
   "source": [
    "G ={'A': [('B', 2)],\n",
    " 'B': [('A', 2), ('C', 5)], \n",
    " 'C': [('B', 5)]}\n",
    "question3(G)"
   ]
  },
  {
   "cell_type": "markdown",
   "metadata": {},
   "source": [
    "### Question 4\n",
    "Find the least common ancestor between two nodes on a binary search tree. The least common ancestor is the farthest node from the root that is an ancestor of both nodes. For example, the root is a common ancestor of all nodes on the tree, but if both nodes are descendents of the root's left child, then that left child might be the lowest common ancestor. You can assume that both nodes are in the tree, and the tree itself adheres to all BST properties. The function definition should look like question4(T, r, n1, n2), where T is the tree represented as a matrix, where the index of the list is equal to the integer stored in that node and a 1 represents a child node, r is a non-negative integer representing the root, and n1 and n2 are non-negative integers representing the two nodes in no particular order. For example, one test case might be\n",
    "\n",
    "question4(<br>\n",
    "[[0, 1, 0, 0, 0],<br>\n",
    "           [0, 0, 0, 0, 0],<br>\n",
    "           [0, 0, 0, 0, 0],<br>\n",
    "           [1, 0, 0, 0, 1],<br>\n",
    "           [0, 0, 0, 0, 0]],<br>\n",
    "          3,<br>\n",
    "          1,<br>\n",
    "          4)"
   ]
  },
  {
   "cell_type": "code",
   "execution_count": 8,
   "metadata": {
    "collapsed": false
   },
   "outputs": [],
   "source": [
    "def question4(T, r, n1, n2):\n",
    "    if n1 == r or n2 == r:\n",
    "        return r\n",
    "    elif min(n1,n2) < r and max(n1,n2) > r :\n",
    "        return r\n",
    "    elif n1 < r and n2 < r:\n",
    "        r = T[r].index(1)\n",
    "        return question4(T, r, n1, n2)\n",
    "    elif n1 > r and n2 > r:\n",
    "        r = T[r].index(1,r)\n",
    "        return question4(T, r, n1, n2)"
   ]
  },
  {
   "cell_type": "code",
   "execution_count": 9,
   "metadata": {
    "collapsed": false
   },
   "outputs": [
    {
     "data": {
      "text/plain": [
       "3"
      ]
     },
     "execution_count": 9,
     "metadata": {},
     "output_type": "execute_result"
    }
   ],
   "source": [
    "question4([[0,1 , 0, 0, 0],\n",
    "           [0, 0, 0, 0, 0],\n",
    "           [0, 0, 0, 0, 0],\n",
    "           [1, 0, 0, 0, 1],\n",
    "           [0, 0, 0, 0, 0]],\n",
    "          3,\n",
    "          1,\n",
    "          4)"
   ]
  },
  {
   "cell_type": "markdown",
   "metadata": {},
   "source": [
    "### Question 5\n",
    "Find the element in a singly linked list that's m elements from the end. For example, if a linked list has 5 elements, the 3rd element from the end is the 3rd element. The function definition should look like question5(ll, m), where ll is the first node of a linked list and m is the \"mth number from the end\". You should copy/paste the Node class below to use as a representation of a node in the linked list. Return the value of the node at that position.\n",
    "\n",
    "class Node(object):\n",
    "\n",
    "  def __init__(self, data):\n",
    "  \n",
    "    self.data = data\n",
    "    \n",
    "    self.next = None\n",
    "    "
   ]
  },
  {
   "cell_type": "code",
   "execution_count": 10,
   "metadata": {
    "collapsed": true
   },
   "outputs": [],
   "source": [
    "class Node(object):\n",
    "  def __init__(self, data):\n",
    "    self.data = data\n",
    "    self.next = None"
   ]
  },
  {
   "cell_type": "code",
   "execution_count": 46,
   "metadata": {
    "collapsed": true
   },
   "outputs": [],
   "source": [
    "def question5(ll, m):\n",
    "    point1 = ll\n",
    "    point2 = ll\n",
    "    for _ in range(m-1):\n",
    "        point2 = point2.next\n",
    "    while(point2.next != None):\n",
    "        point1 = point1.next\n",
    "        point2 = point2.next\n",
    "    return point1.data"
   ]
  }
 ],
 "metadata": {
  "kernelspec": {
   "display_name": "Python 3",
   "language": "python",
   "name": "python3"
  },
  "language_info": {
   "codemirror_mode": {
    "name": "ipython",
    "version": 3
   },
   "file_extension": ".py",
   "mimetype": "text/x-python",
   "name": "python",
   "nbconvert_exporter": "python",
   "pygments_lexer": "ipython3",
   "version": "3.6.0"
  }
 },
 "nbformat": 4,
 "nbformat_minor": 2
}
