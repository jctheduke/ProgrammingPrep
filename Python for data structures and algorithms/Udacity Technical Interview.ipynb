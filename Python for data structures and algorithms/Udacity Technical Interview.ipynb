{
 "cells": [
  {
   "cell_type": "code",
   "execution_count": 1,
   "metadata": {
    "collapsed": true,
    "deletable": true,
    "editable": true
   },
   "outputs": [],
   "source": [
    "# This file contiains questions and answers for the udacity interview questions.\n",
    "from __future__ import division"
   ]
  },
  {
   "cell_type": "markdown",
   "metadata": {
    "deletable": true,
    "editable": true
   },
   "source": [
    "## Question 1"
   ]
  },
  {
   "cell_type": "markdown",
   "metadata": {
    "deletable": true,
    "editable": true
   },
   "source": [
    "Given two strings s and t, determine whether some anagram of t is a substring of s.\n",
    "For example: if s = \"udacity\" and t = \"ad\", then the function returns True.\n",
    "Your function definition should look like: question1(s, t) and return a boolean True or False."
   ]
  },
  {
   "cell_type": "code",
   "execution_count": 2,
   "metadata": {
    "collapsed": false,
    "deletable": true,
    "editable": true
   },
   "outputs": [
    {
     "data": {
      "text/plain": [
       "False"
      ]
     },
     "execution_count": 2,
     "metadata": {},
     "output_type": "execute_result"
    }
   ],
   "source": [
    "def question1(s,t):\n",
    "    s = s.upper()\n",
    "    t = t.upper()\n",
    "    counter_s = {}\n",
    "    for x in s:\n",
    "        counter_s[x] = counter_s.get(x,1)+1\n",
    "    for y in t:\n",
    "        if counter_s.get(y,0) == 0:\n",
    "            return False\n",
    "        else:\n",
    "            counter_s[y] -= 1\n",
    "    return True\n",
    "\n",
    "question1(\"udacity\",\"af\")"
   ]
  },
  {
   "cell_type": "markdown",
   "metadata": {
    "deletable": true,
    "editable": true
   },
   "source": [
    "## Question 2"
   ]
  },
  {
   "cell_type": "markdown",
   "metadata": {
    "collapsed": true,
    "deletable": true,
    "editable": true
   },
   "source": [
    "Given a string A, find the longest palindromic substring contained in A. Your function definition should look like question2(a), and return a string."
   ]
  },
  {
   "cell_type": "code",
   "execution_count": 3,
   "metadata": {
    "collapsed": false,
    "deletable": true,
    "editable": true
   },
   "outputs": [],
   "source": [
    "def check_palin(s):\n",
    "    \"\"\" Returns if given string s is a palindromne or not.\"\"\"\n",
    "    s_len = len(s)\n",
    "    \n",
    "    if s_len%2 == 0:\n",
    "        if s[0:s_len//2] == s[:s_len//2-1:-1]:\n",
    "            return True\n",
    "    else:\n",
    "        if s[0:s_len//2] == s[:s_len//2:-1]:\n",
    "            return True\n",
    "    return False"
   ]
  },
  {
   "cell_type": "code",
   "execution_count": 4,
   "metadata": {
    "collapsed": false
   },
   "outputs": [
    {
     "data": {
      "text/plain": [
       "'MALAYALAM'"
      ]
     },
     "execution_count": 4,
     "metadata": {},
     "output_type": "execute_result"
    }
   ],
   "source": [
    "def question2(st):\n",
    "    ''' Returns longest palindrome substring in a given string st'''\n",
    "    st = st.upper()\n",
    "    st_len = len(st)\n",
    "    longest_palindrome = ''\n",
    "    for i in range(len(st)):\n",
    "        j=0\n",
    "        while(i-j>=0 and i+j < st_len):\n",
    "            s1 = st[i-j:i+j+1]\n",
    "            s2 = (st[i-j-1:i+j+1])\n",
    "            if (check_palin(s1) and len(s1)>len(longest_palindrome)):\n",
    "                longest_palindrome = s1\n",
    "            if (check_palin(s2) and len(s2)>len(longest_palindrome)):\n",
    "                longest_palindrome = s2\n",
    "            j += 1\n",
    "    return longest_palindrome\n",
    "question2('Malayalam')"
   ]
  },
  {
   "cell_type": "markdown",
   "metadata": {},
   "source": [
    "## Question 3"
   ]
  },
  {
   "cell_type": "markdown",
   "metadata": {},
   "source": [
    "Given an undirected graph G, find the minimum spanning tree within G. A minimum spanning tree connects all vertices in a graph with the smallest possible total weight of edges. Your function should take in and return an adjacency list structured like this:\n",
    "\n",
    "{'A': [('B', 2)],\n",
    "\n",
    "'B': [('A', 2), ('C', 5)], \n",
    "\n",
    "'C': [('B', 5)]}"
   ]
  },
  {
   "cell_type": "code",
   "execution_count": 5,
   "metadata": {
    "collapsed": true
   },
   "outputs": [],
   "source": [
    "g={'A': [('B', 2)],\n",
    "'B': [('A', 2), ('C', 5)],\n",
    "'C': [('B', 5)]}"
   ]
  },
  {
   "cell_type": "code",
   "execution_count": 14,
   "metadata": {
    "collapsed": false
   },
   "outputs": [
    {
     "data": {
      "text/plain": [
       "{('A', 'B'): 2, ('B', 'A'): 2, ('B', 'C'): 5, ('C', 'B'): 5}"
      ]
     },
     "execution_count": 14,
     "metadata": {},
     "output_type": "execute_result"
    }
   ],
   "source": [
    "edges = {}\n",
    "for x,y in g.items():\n",
    "    for edge in y:\n",
    "        edges[(x,edge[0])] = edge[1]\n",
    "edges"
   ]
  },
  {
   "cell_type": "code",
   "execution_count": 20,
   "metadata": {
    "collapsed": false
   },
   "outputs": [
    {
     "data": {
      "text/plain": [
       "[('B', 'A'), ('A', 'B'), ('C', 'B'), ('B', 'C')]"
      ]
     },
     "execution_count": 20,
     "metadata": {},
     "output_type": "execute_result"
    }
   ],
   "source": [
    "import operator\n",
    "rr = sorted(edges,key=operator.itemgetter(1))"
   ]
  },
  {
   "cell_type": "code",
   "execution_count": 21,
   "metadata": {
    "collapsed": true
   },
   "outputs": [],
   "source": [
    "disjoint = set()"
   ]
  },
  {
   "cell_type": "code",
   "execution_count": 22,
   "metadata": {
    "collapsed": false
   },
   "outputs": [
    {
     "ename": "SyntaxError",
     "evalue": "invalid syntax (<ipython-input-22-2e6a5827a744>, line 1)",
     "output_type": "error",
     "traceback": [
      "\u001b[0;36m  File \u001b[0;32m\"<ipython-input-22-2e6a5827a744>\"\u001b[0;36m, line \u001b[0;32m1\u001b[0m\n\u001b[0;31m    if('B','A')\u001b[0m\n\u001b[0m               ^\u001b[0m\n\u001b[0;31mSyntaxError\u001b[0m\u001b[0;31m:\u001b[0m invalid syntax\n"
     ]
    }
   ],
   "source": []
  }
 ],
 "metadata": {
  "kernelspec": {
   "display_name": "Python 3",
   "language": "python",
   "name": "python3"
  },
  "language_info": {
   "codemirror_mode": {
    "name": "ipython",
    "version": 3
   },
   "file_extension": ".py",
   "mimetype": "text/x-python",
   "name": "python",
   "nbconvert_exporter": "python",
   "pygments_lexer": "ipython3",
   "version": "3.6.0"
  }
 },
 "nbformat": 4,
 "nbformat_minor": 2
}
