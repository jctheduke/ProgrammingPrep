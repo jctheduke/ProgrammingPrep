{
 "cells": [
  {
   "cell_type": "code",
   "execution_count": 2,
   "metadata": {
    "collapsed": true
   },
   "outputs": [],
   "source": [
    "class Vertex(object):\n",
    "    \n",
    "    def __init__(self,key):\n",
    "        \n",
    "        self.id = key\n",
    "        self.connected_to = {}\n",
    "        \n",
    "    def add_neighbor(self,nbr,weight=0):\n",
    "        \n",
    "        self.connected_to[nbr] = weight\n",
    "        \n",
    "    def get_connections(self):\n",
    "        \n",
    "        return self.connected_to.keys()\n",
    "    \n",
    "    def get_id(self):\n",
    "        \n",
    "        return self.id\n",
    "    \n",
    "    def get_weight(self,nbr):\n",
    "        \n",
    "        return self.connected_to[nbr]\n",
    "    \n",
    "    def __str__(self):\n",
    "        \n",
    "        return str(self.id)+ \"connected to\"+ str([x.id for x in self.connected_to])"
   ]
  },
  {
   "cell_type": "code",
   "execution_count": 4,
   "metadata": {
    "collapsed": true
   },
   "outputs": [],
   "source": [
    "def Graph(object):\n",
    "    \n",
    "    def __init__(self):\n",
    "        \n",
    "        self.vert_list = {}\n",
    "        self.num_vertices = 0\n",
    "        \n",
    "    def add_vertex(self,key):\n",
    "        \n",
    "        self. num_vertices += 1\n",
    "        new_vertex = Vertex(key)\n",
    "        \n",
    "        self.vert_list[key] = new_vertex\n",
    "        return new_vertex\n",
    "    \n",
    "    def get_vertex(self,n):\n",
    "        \n",
    "        if n in self.vert_list:\n",
    "            return self.vert_list[n]\n",
    "        \n",
    "    def add_edge(self,f,t,cost=0):\n",
    "        \n",
    "        if f not in self.vert_list:\n",
    "            v = self.add_vertex(f)\n",
    "        \n",
    "        if t not in self.vert_list:\n",
    "            \n",
    "            m = self.add_vertex(t)\n",
    "            \n",
    "        self.vert_list[f].add_neighbor(self.vert_list[t],cost)\n",
    "        \n",
    "    def get_vertices(self):\n",
    "        \n",
    "        return self.vert_list.keys()\n",
    "    \n",
    "    def __iter__(self):\n",
    "        \n",
    "        return iter(self.vert_list.values())"
   ]
  },
  {
   "cell_type": "code",
   "execution_count": null,
   "metadata": {
    "collapsed": true
   },
   "outputs": [],
   "source": []
  }
 ],
 "metadata": {
  "kernelspec": {
   "display_name": "Python 3",
   "language": "python",
   "name": "python3"
  },
  "language_info": {
   "codemirror_mode": {
    "name": "ipython",
    "version": 3
   },
   "file_extension": ".py",
   "mimetype": "text/x-python",
   "name": "python",
   "nbconvert_exporter": "python",
   "pygments_lexer": "ipython3",
   "version": "3.6.0"
  }
 },
 "nbformat": 4,
 "nbformat_minor": 2
}
