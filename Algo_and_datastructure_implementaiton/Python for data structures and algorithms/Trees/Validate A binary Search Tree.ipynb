{
 "cells": [
  {
   "cell_type": "markdown",
   "metadata": {},
   "source": [
    "Problem is to validate a bianry search tree.\n",
    "In binary search tree,left node will be smaller than the parent node and right child will be larger than the parent.\n",
    "So, If we do a inorder traversal of the tree and list of numbers are in ascending order then given treee is BST.\n"
   ]
  },
  {
   "cell_type": "code",
   "execution_count": 1,
   "metadata": {
    "collapsed": true
   },
   "outputs": [],
   "source": [
    "def valide_bst(tree):\n",
    "    num_list = []\n",
    "    \n",
    "    in_oder_trav(tree)\n",
    "    for i in range(len(num_list)-1):\n",
    "        if num_list[i] > num_list[i+1]:\n",
    "            return False\n",
    "    else:\n",
    "        return True\n",
    "    \n",
    "def in_order_trav(root,num_list):    \n",
    "    if root.left:\n",
    "        in_order_trav(root.left,num_list)\n",
    "    num_list.append(root.value)\n",
    "    if root.right:\n",
    "        in_order_trav(root.right,num_list)\n"
   ]
  },
  {
   "cell_type": "markdown",
   "metadata": {},
   "source": [
    "Another way to solve the problem is to check if the current node has the values in the check range. So keep track of the maximum and minimum values allowed."
   ]
  },
  {
   "cell_type": "code",
   "execution_count": 2,
   "metadata": {
    "collapsed": false
   },
   "outputs": [
    {
     "data": {
      "text/plain": [
       "-inf"
      ]
     },
     "execution_count": 2,
     "metadata": {},
     "output_type": "execute_result"
    }
   ],
   "source": [
    "float(\"-inf\")"
   ]
  }
 ],
 "metadata": {
  "kernelspec": {
   "display_name": "Python 3",
   "language": "python",
   "name": "python3"
  },
  "language_info": {
   "codemirror_mode": {
    "name": "ipython",
    "version": 3
   },
   "file_extension": ".py",
   "mimetype": "text/x-python",
   "name": "python",
   "nbconvert_exporter": "python",
   "pygments_lexer": "ipython3",
   "version": "3.6.0"
  }
 },
 "nbformat": 4,
 "nbformat_minor": 2
}
