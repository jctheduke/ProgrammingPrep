{
 "cells": [
  {
   "cell_type": "code",
   "execution_count": 1,
   "metadata": {
    "collapsed": true,
    "deletable": true,
    "editable": true
   },
   "outputs": [],
   "source": [
    "# This file contiains questions and answers for the udacity interview questions.\n",
    "from __future__ import division\n",
    "from __future__ import print_function"
   ]
  },
  {
   "cell_type": "markdown",
   "metadata": {
    "deletable": true,
    "editable": true
   },
   "source": [
    "## Question 1"
   ]
  },
  {
   "cell_type": "markdown",
   "metadata": {
    "deletable": true,
    "editable": true
   },
   "source": [
    "Given two strings s and t, determine whether some anagram of t is a substring of s.\n",
    "For example: if s = \"udacity\" and t = \"ad\", then the function returns True.\n",
    "Your function definition should look like: question1(s, t) and return a boolean True or False."
   ]
  },
  {
   "cell_type": "code",
   "execution_count": 2,
   "metadata": {
    "collapsed": false,
    "deletable": true,
    "editable": true
   },
   "outputs": [],
   "source": [
    "def question1(s,t):\n",
    "    ''' Checks if any substring of s is an anagram of t.Returns the truth value'''\n",
    "    if len(t) > len(s):\n",
    "        return False\n",
    "    s = s.upper()\n",
    "    t = t.upper()\n",
    "    counter_s = {}\n",
    "    for x in s:\n",
    "        counter_s[x] = counter_s.get(x,1)+1\n",
    "    for y in t:\n",
    "        if counter_s.get(y,0) == 0:\n",
    "            return False\n",
    "        else:\n",
    "            counter_s[y] -= 1\n",
    "    return True"
   ]
  },
  {
   "cell_type": "code",
   "execution_count": 3,
   "metadata": {
    "collapsed": false
   },
   "outputs": [
    {
     "name": "stdout",
     "output_type": "stream",
     "text": [
      "True\n",
      "False\n",
      "True\n"
     ]
    }
   ],
   "source": [
    "# Test Cases\n",
    "#case 1\n",
    "print(question1(\"udacity\",\"ad\"))\n",
    "\n",
    "# case 2 : edge case\n",
    "print(question1(\"\",\"ad\"))\n",
    "\n",
    "# case 3 : edge case\n",
    "print(question1(\"udacity\",\"\"))"
   ]
  },
  {
   "cell_type": "markdown",
   "metadata": {},
   "source": [
    "<b>Complexity</b>:\n",
    " 1) One loop of the string s to form a counter dictionary. complexity = len(s)<br>\n",
    " 2) One loop of the string t and search in dictionary will have constant time. so complexity = len(t)<br>\n",
    " As,len(s) >= len(t): Big(O) complexity is O(n).\n",
    " \n",
    "<b>Design:</b>\n",
    "* If the length of t is greater that length of s, then no substring of s can be an anagram of t.So, return false\n",
    "* Python strings are case sensitive while comparison.So, make both strings upper case.\n",
    "* Two strings can be anagrams only if the count of each character is equal.\n",
    "* Use python dictionary to keep track of the count of each character.\n",
    "* Check if each character in t is present in s, by subtracting the character counts by 1 from  counter_s.If no character is present return False.\n",
    "* If all the character counts of t are present in s, return True."
   ]
  },
  {
   "cell_type": "markdown",
   "metadata": {
    "deletable": true,
    "editable": true
   },
   "source": [
    "## Question 2"
   ]
  },
  {
   "cell_type": "markdown",
   "metadata": {
    "collapsed": true,
    "deletable": true,
    "editable": true
   },
   "source": [
    "Given a string A, find the longest palindromic substring contained in A. Your function definition should look like question2(a), and return a string."
   ]
  },
  {
   "cell_type": "code",
   "execution_count": 4,
   "metadata": {
    "collapsed": false,
    "deletable": true,
    "editable": true
   },
   "outputs": [],
   "source": [
    "def check_palin(s):\n",
    "    \"\"\" Returns if given string s is a palindromne or not.\"\"\"\n",
    "    s_len = len(s)\n",
    "    \n",
    "    if s_len%2 == 0:\n",
    "        if s[0:s_len//2] == s[:s_len//2-1:-1]:\n",
    "            return True\n",
    "    else:\n",
    "        if s[0:s_len//2] == s[:s_len//2:-1]:\n",
    "            return True\n",
    "    return False"
   ]
  },
  {
   "cell_type": "code",
   "execution_count": 5,
   "metadata": {
    "collapsed": false
   },
   "outputs": [],
   "source": [
    "def question2(a):\n",
    "    ''' Returns longest palindrome substring in a given string st'''\n",
    "    st = a.upper()\n",
    "    st_len = len(st)\n",
    "    longest_palindrome = ''\n",
    "    for i in range(len(st)):\n",
    "        j=0\n",
    "        while(i-j>=0 and i+j < st_len):\n",
    "            s1 = st[i-j:i+j+1]\n",
    "            s2 = (st[i-j-1:i+j+1])\n",
    "            if (check_palin(s1) and len(s1)>len(longest_palindrome)):\n",
    "                longest_palindrome = s1\n",
    "            if (check_palin(s2) and len(s2)>len(longest_palindrome)):\n",
    "                longest_palindrome = s2\n",
    "            j += 1\n",
    "    return longest_palindrome\n"
   ]
  },
  {
   "cell_type": "code",
   "execution_count": 6,
   "metadata": {
    "collapsed": false
   },
   "outputs": [
    {
     "name": "stdout",
     "output_type": "stream",
     "text": [
      "MALAYALAM\n",
      "MALAYALAM\n",
      "A\n",
      "\n",
      "FFFFF\n"
     ]
    }
   ],
   "source": [
    "# TestCases\n",
    "# Case 1\n",
    "print(question2('abcMalayalamxyz'))\n",
    "\n",
    "# Case 2 : edge case whole word is palindrome\n",
    "print(question2('Malayalam'))\n",
    "\n",
    "# Case 3 : No palindrome or single alphabet.\n",
    "print(question2('aBcdEfgHIJK'))\n",
    "\n",
    "# Case 4 : Empty string. Empty string is also a palindrome.\n",
    "print(question2('')) \n",
    "\n",
    "# Case 5 : Two different length palindromes\n",
    "print(question2('abbbcddddefFFffghhIiJ')) "
   ]
  },
  {
   "cell_type": "markdown",
   "metadata": {},
   "source": [
    "<b>Complexity</b>\n",
    "1) For each character i in string a,j is looped in range of len(a) - i. The complexity of this two for loops is len(a)^2.\n",
    "2) check_palin(s), contains just a few if conditions and string slicing, this will have constant time complexity.\n",
    "3) So, Overall Big O complexity of question2 is O(n^2).\n",
    "\n",
    "<b>Design</b>\n",
    "* Python characters are case sensitive.So, string a is converted to uppercase for uniformity.\n",
    "* For palindrome, characters which are equidistant from the center are equal.So, we will check for the possibility of each character to be the center.\n",
    "* ODD CHARACTERS: For example, in 'abcdcba' when d is considered the center, we will add each character on both sides and check if it still a palindrome.If not stop there else one more character until you find the longest palindrome when d is center.check the same for all the characters.S1 looks for odd character lengths.\n",
    "* EVEN CHARACTERS: For example, in 'abba' if we consider a center in between 'bb' then we have a palindrome of length 2 and if not stop else add two more characters to check for palindrome.Continue until longest palindrome considering 'bb' as the center is found.\n",
    "* If the string is even, we split the string into even. The second split is reversed and if it matches exactly with the first split, then given string is a palindrome. For odd length string, middle letter is not considered and rest of string is split into around the middle letter.The second split is reversed and check against the first split.If matches given string is a palindrome.This method is implemented in check_palin() function."
   ]
  },
  {
   "cell_type": "markdown",
   "metadata": {},
   "source": [
    "## Question 3"
   ]
  },
  {
   "cell_type": "markdown",
   "metadata": {},
   "source": [
    "Given an undirected graph G, find the minimum spanning tree within G. A minimum spanning tree connects all vertices in a graph with the smallest possible total weight of edges. Your function should take in and return an adjacency list structured like this:\n",
    "\n",
    "{'A': [('B', 2)],\n",
    "\n",
    "'B': [('A', 2), ('C', 5)], \n",
    "\n",
    "'C': [('B', 5)]}"
   ]
  },
  {
   "cell_type": "code",
   "execution_count": 7,
   "metadata": {
    "collapsed": false
   },
   "outputs": [],
   "source": [
    "def find_set(v1,v2,union_sets):\n",
    "    ''' Returns to which sets x,y belongs too.If not,returns None '''\n",
    "    index_v1,index_v2 = None,None\n",
    "    for (x,y) in union_sets.items():\n",
    "        if v1 in y:\n",
    "            index_v1 = x\n",
    "        if v2 in y:\n",
    "            index_v2 = x\n",
    "    return index_v1,index_v2"
   ]
  },
  {
   "cell_type": "code",
   "execution_count": 8,
   "metadata": {
    "collapsed": false
   },
   "outputs": [],
   "source": [
    "def  question3(G):\n",
    "    edges = {}\n",
    "    for x,y in G.items():\n",
    "        for edge in y:\n",
    "            edges[(x,edge[0])] = edge[1]\n",
    "    nodes = list(G.keys())\n",
    "    sorted_edges = sorted(edges,key = lambda x : edges[x] )\n",
    "\n",
    "    union_sets = {}\n",
    "    union_set_index = 0\n",
    "    MST= {}\n",
    "    for (v1,v2) in sorted_edges:\n",
    "        i,j = find_set(v1,v2,union_sets)\n",
    "        if not(i == j and i!=None):\n",
    "            weight = edges[(v1,v2)]\n",
    "            if i == None and j == None:\n",
    "                union_sets[union_set_index] = {v1,v2}\n",
    "                union_set_index += 1\n",
    "            elif i == None:\n",
    "                union_sets[j] = union_sets[j].union({v1})\n",
    "            elif j == None:\n",
    "                union_sets[i] = union_sets[i].union({v2})\n",
    "            elif i != j :\n",
    "                union_sets[i] = union_sets[i].union(union_sets[j])\n",
    "                del(union_sets[j])\n",
    "            MST[v1] = MST.get(v1,[])+[(v2,weight)]\n",
    "            MST[v2] = MST.get(v2,[])+[(v1,weight)]\n",
    "    return MST"
   ]
  },
  {
   "cell_type": "code",
   "execution_count": 9,
   "metadata": {
    "collapsed": false
   },
   "outputs": [
    {
     "name": "stdout",
     "output_type": "stream",
     "text": [
      "{'A': [('B', 2)], 'C': [('B', 5)], 'B': [('A', 2), ('C', 5)]}\n",
      "{}\n",
      "{'A': [('B', 2)], 'B': [('A', 2)]}\n",
      "{'A': [('B', 2)], 'C': [('B', 2)], 'B': [('C', 2), ('A', 2)]}\n"
     ]
    }
   ],
   "source": [
    "# Test Cases\n",
    "G1 ={'A': [('B', 2)],\n",
    "     'B': [('A', 2), ('C', 5)], \n",
    "     'C': [('B', 5)]}\n",
    "\n",
    "# Empty network\n",
    "G2 ={}\n",
    "\n",
    "# Single Node\n",
    "G3 = {'A': [('B', 2)],\n",
    "      'B': [('A', 2)]}\n",
    "\n",
    "# Triangle of equal lengths\n",
    "G4 = {'A': [('B', 2),('C', 2)],\n",
    "      'B': [('A', 2),('C', 2)],\n",
    "      'C': [('A', 2),('B', 2)]}\n",
    "\n",
    "print(question3(G1))\n",
    "print(question3(G2))\n",
    "print(question3(G3))\n",
    "print(question3(G4))"
   ]
  },
  {
   "cell_type": "markdown",
   "metadata": {},
   "source": [
    "<b>Complexity</b>\n",
    "1) Graph G is iterated once, No of keys in G is v.(v represents no of vertices).The cost of this step if V.\n",
    "2) Extraction of the nodes takes constant time.\n",
    "3) Sorting of edges needs iteration through edges once. The cost of this step is E.\n",
    "4) find_set takes one iteration through union sets, in the worst case, the cost of this functions is v.\n",
    "5) Iteration through sorted edges cost e.v.\n",
    "The total cost of operation if O(EV) where E  is no of edges and v is no of vertices.\n",
    "\n",
    "<b>Design</b>\n",
    "* Kruskal algorithm is used to determine the Minimum Spanning Tree in undirected graph.\n",
    "* Input is given as a graph, we to extract edges and nodes from this graph to implement Kruskal algorithm.\n",
    "* Edges are sorted as required by the Kruskal algorithm.\n",
    "* Union_set is maintained in order to find out which nodes are connected and for avoiding closed loops.\n",
    "* While looping through sorted edges, If a suitable edge is found, this edge is added to MST in the required output format.\n",
    "* Finally fully developed MST is returned."
   ]
  },
  {
   "cell_type": "markdown",
   "metadata": {},
   "source": [
    "### Question 4\n",
    "Find the least common ancestor between two nodes on a binary search tree. The least common ancestor is the farthest node from the root that is an ancestor of both nodes. For example, the root is a common ancestor of all nodes on the tree, but if both nodes are descendents of the root's left child, then that left child might be the lowest common ancestor. You can assume that both nodes are in the tree, and the tree itself adheres to all BST properties. The function definition should look like question4(T, r, n1, n2), where T is the tree represented as a matrix, where the index of the list is equal to the integer stored in that node and a 1 represents a child node, r is a non-negative integer representing the root, and n1 and n2 are non-negative integers representing the two nodes in no particular order. For example, one test case might be\n",
    "\n",
    "question4(<br>\n",
    "[[0, 1, 0, 0, 0],<br>\n",
    "           [0, 0, 0, 0, 0],<br>\n",
    "           [0, 0, 0, 0, 0],<br>\n",
    "           [1, 0, 0, 0, 1],<br>\n",
    "           [0, 0, 0, 0, 0]],<br>\n",
    "          3,<br>\n",
    "          1,<br>\n",
    "          4)"
   ]
  },
  {
   "cell_type": "code",
   "execution_count": 10,
   "metadata": {
    "collapsed": false
   },
   "outputs": [],
   "source": [
    "def question4(T, r, n1, n2):\n",
    "    if n1 == r or n2 == r:\n",
    "        return r\n",
    "    elif min(n1,n2) < r and max(n1,n2) > r :\n",
    "        return r\n",
    "    elif n1 < r and n2 < r:\n",
    "        r = T[r].index(1)\n",
    "        return question4(T, r, n1, n2)\n",
    "    elif n1 > r and n2 > r:\n",
    "        r = T[r].index(1,r)\n",
    "        return question4(T, r, n1, n2)"
   ]
  },
  {
   "cell_type": "code",
   "execution_count": 11,
   "metadata": {
    "collapsed": false
   },
   "outputs": [
    {
     "name": "stdout",
     "output_type": "stream",
     "text": [
      "3\n",
      "3\n",
      "0\n",
      "4\n"
     ]
    }
   ],
   "source": [
    "# Test Cases\n",
    "# Case 1 # When r is between n1 and n2\n",
    "print(question4([[0,1 , 0, 0, 0],\n",
    "           [0, 0, 0, 0, 0],\n",
    "           [0, 0, 0, 0, 0],\n",
    "           [1, 0, 0, 0, 1],\n",
    "           [0, 0, 0, 0, 0]],\n",
    "          3,\n",
    "          1,\n",
    "          4))\n",
    "\n",
    "\n",
    "# Case 2 : When n1 or n2 is r.\n",
    "print(question4([[0,1 , 0, 0, 0],\n",
    "           [0, 0, 0, 0, 0],\n",
    "           [0, 0, 0, 0, 0],\n",
    "           [1, 0, 0, 0, 1],\n",
    "           [0, 0, 0, 0, 0]],\n",
    "          3,\n",
    "          3,\n",
    "          4))\n",
    "\n",
    "\n",
    "# Case 3 : When n1 and n2 less than r\n",
    "print(question4([[0,1 , 0, 0, 0],\n",
    "           [0, 0, 0, 0, 0],\n",
    "           [0, 0, 0, 0, 0],\n",
    "           [1, 0, 0, 0, 1],\n",
    "           [0, 0, 0, 0, 0]],\n",
    "          3,\n",
    "          0,\n",
    "          1))\n",
    "# Case 4 : When n1 and n2 greater than r\n",
    "print(question4([[0,1 , 0, 0, 0,0],\n",
    "           [0, 0, 0, 0, 0,0],\n",
    "           [0, 0, 0, 0, 0,0],\n",
    "           [1, 0, 0, 0, 1,0],\n",
    "           [0, 0, 0, 0, 0,1]],\n",
    "          3,\n",
    "          5,\n",
    "          4))"
   ]
  },
  {
   "cell_type": "markdown",
   "metadata": {},
   "source": [
    "<b>Complexity</b>\n",
    "1) There are only a few if and else loops in the question4.So, it's a constant time for each call.\n",
    "2) There can be maximum of H calls where H is the height of the tree.\n",
    "3) Complexity of question4 is O(log(n))\n",
    "\n",
    "<b>Design</b>:\n",
    "* If at least one of the numbers (n1,n2) is equal to r, then r is the least common ancestor.\n",
    "* If the root is between,n1 and n2 then r is the least common ancestor.\n",
    "* If n1 and n2 are less than r, then least common ancestor is in left child tree of the r.So, pass the left child of r as root to question4.(recursion)\n",
    "* If n1 and n2 are greater than r, then least common ancestor is in the right child tree of the r.so, pass the right child as root to question4.\n",
    "* Repeat above process recursively, until least common ancestor is found."
   ]
  },
  {
   "cell_type": "markdown",
   "metadata": {},
   "source": [
    "### Question 5\n",
    "Find the element in a singly linked list that's m elements from the end. For example, if a linked list has 5 elements, the 3rd element from the end is the 3rd element. The function definition should look like question5(ll, m), where ll is the first node of a linked list and m is the \"mth number from the end\". You should copy/paste the Node class below to use as a representation of a node in the linked list. Return the value of the node at that position.\n",
    "\n",
    "class Node(object):\n",
    "\n",
    "  def __init__(self, data):\n",
    "  \n",
    "    self.data = data\n",
    "    \n",
    "    self.next = None\n",
    "    "
   ]
  },
  {
   "cell_type": "code",
   "execution_count": 12,
   "metadata": {
    "collapsed": true
   },
   "outputs": [],
   "source": [
    "class Node(object):\n",
    "    def __init__(self, data):\n",
    "        self.data = data\n",
    "        self.next = None"
   ]
  },
  {
   "cell_type": "code",
   "execution_count": 13,
   "metadata": {
    "collapsed": true
   },
   "outputs": [],
   "source": [
    "def question5(ll, m):\n",
    "    point1 = ll\n",
    "    point2 = ll\n",
    "    for _ in range(m-1):\n",
    "        if point2.next == None:\n",
    "            return None\n",
    "        else:\n",
    "            point2 = point2.next\n",
    "    while(point2.next != None):\n",
    "        point1 = point1.next\n",
    "        point2 = point2.next\n",
    "    return point1.data"
   ]
  },
  {
   "cell_type": "code",
   "execution_count": 14,
   "metadata": {
    "collapsed": false
   },
   "outputs": [
    {
     "name": "stdout",
     "output_type": "stream",
     "text": [
      "4\n",
      "5\n",
      "1\n",
      "None\n"
     ]
    }
   ],
   "source": [
    "# Test Case\n",
    "# Node creation\n",
    "a1 = Node(1)\n",
    "a2= Node(2)\n",
    "a3 = Node(3)\n",
    "a4 = Node(4)\n",
    "a5 = Node(5)\n",
    "\n",
    "# Chaining up nodes\n",
    "a1.next = a2\n",
    "a2.next = a3\n",
    "a3.next = a4\n",
    "a4.next = a5\n",
    "\n",
    "# Case1\n",
    "print(question5(a1,2))\n",
    "\n",
    "# Case2 : when m =0\n",
    "print(question5(a1,0))\n",
    "\n",
    "# Case3 : when m = len(linkedlist)\n",
    "print(question5(a1,5))\n",
    "\n",
    "# Case4 : when m > len(linkedlist)\n",
    "print(question5(a1,7))"
   ]
  },
  {
   "cell_type": "markdown",
   "metadata": {},
   "source": [
    "<b>Complexity</b>\n",
    "1) There are two pointers, each moves to next node for each step.This takes constant time.\n",
    "2) There is maximum of n steps, where n is the total length of the linked list.\n",
    "3) The complexity of question5 is O(n).\n",
    "\n",
    "<b>Design</b>\n",
    "* In a singly linked list, we can move only forward.\n",
    "* If we reach the end of the linked list, mth element will be m elements from the end of the linked list.\n",
    "* So, if we keep two pointers m elements part, and if one pointer reaches the end of linked list.The second pointer will be the mth element from the end of the linked list."
   ]
  }
 ],
 "metadata": {
  "kernelspec": {
   "display_name": "Python 3",
   "language": "python",
   "name": "python3"
  },
  "language_info": {
   "codemirror_mode": {
    "name": "ipython",
    "version": 3
   },
   "file_extension": ".py",
   "mimetype": "text/x-python",
   "name": "python",
   "nbconvert_exporter": "python",
   "pygments_lexer": "ipython3",
   "version": "3.6.0"
  }
 },
 "nbformat": 4,
 "nbformat_minor": 2
}
