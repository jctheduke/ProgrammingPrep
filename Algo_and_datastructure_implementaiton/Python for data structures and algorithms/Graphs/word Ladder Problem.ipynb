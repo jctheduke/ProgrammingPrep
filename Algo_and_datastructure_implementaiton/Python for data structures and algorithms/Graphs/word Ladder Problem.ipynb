{
 "cells": [
  {
   "cell_type": "markdown",
   "metadata": {},
   "source": [
    "In word ladder problem, you will be given an intial word and final word. You have to reach from initial word to final word such that each transition from the one word to another word by changing single letter each time. "
   ]
  },
  {
   "cell_type": "code",
   "execution_count": 1,
   "metadata": {
    "collapsed": true
   },
   "outputs": [],
   "source": [
    "# Given dictionary of words\n",
    "# Get the shorted legth of adjacent changes needed"
   ]
  },
  {
   "cell_type": "code",
   "execution_count": 2,
   "metadata": {
    "collapsed": true
   },
   "outputs": [],
   "source": [
    "def is_adjacent(a, b):\n",
    "    count = 0\n",
    "    n = len(a)\n",
    "    \n",
    "    for i in range(n):\n",
    "        \n",
    "        if a[i] != b[i]:\n",
    "            count += 1\n",
    "        if count > 1:\n",
    "            break\n",
    "    return True if count==1 else False\n"
   ]
  },
  {
   "cell_type": "code",
   "execution_count": 6,
   "metadata": {
    "collapsed": false
   },
   "outputs": [
    {
     "data": {
      "text/plain": [
       "False"
      ]
     },
     "execution_count": 6,
     "metadata": {},
     "output_type": "execute_result"
    }
   ],
   "source": [
    "is_adjacent(\"abc\",\"bbb\")"
   ]
  },
  {
   "cell_type": "code",
   "execution_count": 22,
   "metadata": {
    "collapsed": true
   },
   "outputs": [],
   "source": [
    "class QItem(object):\n",
    "    \n",
    "    def __init__(self,word,len):\n",
    "        self.word = word\n",
    "        self.len = len\n",
    "    \n",
    "def shortest_chain_len(start,target,D):\n",
    "    \n",
    "    Q = []\n",
    "    item = QItem(start,1)\n",
    "    Q.append(item)\n",
    "    \n",
    "    while(len(Q)>0):\n",
    "        \n",
    "        curr = Q.pop()\n",
    "    \n",
    "        for it in D:\n",
    "\n",
    "\n",
    "            temp =it\n",
    "            if is_adjacent(curr.word,temp) == True:\n",
    "\n",
    "                # add the dictionary word to Q\n",
    "                item.word = temp\n",
    "                item.len = curr.len + 1\n",
    "                Q.append(item)\n",
    "\n",
    "                D.remove(temp)\n",
    "\n",
    "                if temp == target:\n",
    "                    return item.len"
   ]
  },
  {
   "cell_type": "code",
   "execution_count": 23,
   "metadata": {
    "collapsed": true
   },
   "outputs": [],
   "source": [
    "D = []\n",
    "D.append(\"poon\")\n",
    "D.append(\"plee\")\n",
    "D.append(\"same\")\n",
    "D.append(\"poie\")\n",
    "D.append(\"plie\")\n",
    "D.append(\"poin\")\n",
    "D.append(\"plea\")\n",
    "start = \"toon\"\n",
    "target = \"plea\""
   ]
  },
  {
   "cell_type": "code",
   "execution_count": 24,
   "metadata": {
    "collapsed": false
   },
   "outputs": [
    {
     "data": {
      "text/plain": [
       "7"
      ]
     },
     "execution_count": 24,
     "metadata": {},
     "output_type": "execute_result"
    }
   ],
   "source": [
    "shortest_chain_len(start, target, D)"
   ]
  },
  {
   "cell_type": "code",
   "execution_count": null,
   "metadata": {
    "collapsed": true
   },
   "outputs": [],
   "source": []
  }
 ],
 "metadata": {
  "kernelspec": {
   "display_name": "Python 3",
   "language": "python",
   "name": "python3"
  },
  "language_info": {
   "codemirror_mode": {
    "name": "ipython",
    "version": 3
   },
   "file_extension": ".py",
   "mimetype": "text/x-python",
   "name": "python",
   "nbconvert_exporter": "python",
   "pygments_lexer": "ipython3",
   "version": "3.6.0"
  }
 },
 "nbformat": 4,
 "nbformat_minor": 2
}
