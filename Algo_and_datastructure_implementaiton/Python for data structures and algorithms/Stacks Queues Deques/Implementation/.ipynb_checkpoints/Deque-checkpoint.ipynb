{
 "cells": [
  {
   "cell_type": "code",
   "execution_count": 26,
   "metadata": {
    "collapsed": true
   },
   "outputs": [],
   "source": [
    "class Deque(object):\n",
    "    \n",
    "    def __init__(self):\n",
    "        self.items = []\n",
    "    \n",
    "    def size(self):\n",
    "        return len(self.items)\n",
    "    \n",
    "    def is_empty(self):\n",
    "        if self.items == []:\n",
    "            return True\n",
    "        else:\n",
    "            return False\n",
    "    \n",
    "    def add_front(self,item):\n",
    "        self.items.insert(0,item)\n",
    "    \n",
    "    def add_back(self,item):\n",
    "        self.items.append(item)\n",
    "    \n",
    "    def pop_front(self):\n",
    "        return self.items.pop(0)\n",
    "    \n",
    "    def pop_back(self):\n",
    "        return self.items.pop()\n",
    "    \n",
    "    def peek_front(self):\n",
    "        return self.items[0]\n",
    "    \n",
    "    def peek_back(self):\n",
    "        return self.items[-1]"
   ]
  },
  {
   "cell_type": "code",
   "execution_count": null,
   "metadata": {
    "collapsed": true
   },
   "outputs": [],
   "source": []
  }
 ],
 "metadata": {
  "kernelspec": {
   "display_name": "Python 3",
   "language": "python",
   "name": "python3"
  },
  "language_info": {
   "codemirror_mode": {
    "name": "ipython",
    "version": 3
   },
   "file_extension": ".py",
   "mimetype": "text/x-python",
   "name": "python",
   "nbconvert_exporter": "python",
   "pygments_lexer": "ipython3",
   "version": "3.6.0"
  }
 },
 "nbformat": 4,
 "nbformat_minor": 2
}
