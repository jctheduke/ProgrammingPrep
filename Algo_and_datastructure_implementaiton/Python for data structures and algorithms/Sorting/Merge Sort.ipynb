{
 "cells": [
  {
   "cell_type": "code",
   "execution_count": 2,
   "metadata": {
    "collapsed": true
   },
   "outputs": [],
   "source": [
    "# Merge Sort with recursion"
   ]
  },
  {
   "cell_type": "code",
   "execution_count": 30,
   "metadata": {
    "collapsed": true
   },
   "outputs": [],
   "source": [
    "def merge_sort(arr):\n",
    "    \n",
    "    if len(arr) < 2:\n",
    "        return arr\n",
    "    \n",
    "    if len(arr) == 2:\n",
    "        \n",
    "        if arr[0] > arr[1]:\n",
    "            arr[0],arr[1] = arr[1],arr[0]\n",
    "        \n",
    "        return arr\n",
    "    \n",
    "    else:\n",
    "        \n",
    "        n = len(arr)\n",
    "        half = int(n/2)\n",
    "        \n",
    "        left = merge_sort(arr[:half])\n",
    "        \n",
    "        right = merge_sort(arr[half:])\n",
    "        \n",
    "        \n",
    "        i_left = 0\n",
    "        \n",
    "        i_right = 0\n",
    "        \n",
    "        while(i_left < half and i_right < n-half):\n",
    "            \n",
    "            if left[i_left] > right[i_right]:\n",
    "                \n",
    "                left[i_left],right[i_right] = right[i_right],left[i_left]\n",
    "                \n",
    "                i_right += 1\n",
    "            \n",
    "            else:\n",
    "                i_left += 1\n",
    "        \n",
    "        return left+right\n",
    "        \n",
    "                \n",
    "                \n",
    "        "
   ]
  },
  {
   "cell_type": "code",
   "execution_count": 36,
   "metadata": {
    "collapsed": false
   },
   "outputs": [],
   "source": [
    "arr = [-2,4,-4,45,45,16,3,1,49,-3,-65,-74,29,84,7]"
   ]
  },
  {
   "cell_type": "code",
   "execution_count": 37,
   "metadata": {
    "collapsed": false
   },
   "outputs": [
    {
     "data": {
      "text/plain": [
       "[-74, -3, 1, 4, -65, 45, 45, -4, -2, 3, 16, 7, 49, 29, 84]"
      ]
     },
     "execution_count": 37,
     "metadata": {},
     "output_type": "execute_result"
    }
   ],
   "source": [
    "merge_sort(arr)"
   ]
  },
  {
   "cell_type": "code",
   "execution_count": 38,
   "metadata": {
    "collapsed": false
   },
   "outputs": [
    {
     "data": {
      "text/plain": [
       "[-2, 4, -4, 45, 45, 16, 3]"
      ]
     },
     "execution_count": 38,
     "metadata": {},
     "output_type": "execute_result"
    }
   ],
   "source": [
    "arr[:7]"
   ]
  },
  {
   "cell_type": "code",
   "execution_count": 39,
   "metadata": {
    "collapsed": false
   },
   "outputs": [
    {
     "data": {
      "text/plain": [
       "[1, 49, -3, -65, -74, 29, 84, 7]"
      ]
     },
     "execution_count": 39,
     "metadata": {},
     "output_type": "execute_result"
    }
   ],
   "source": [
    "arr[7:]"
   ]
  },
  {
   "cell_type": "code",
   "execution_count": 40,
   "metadata": {
    "collapsed": false
   },
   "outputs": [
    {
     "data": {
      "text/plain": [
       "7"
      ]
     },
     "execution_count": 40,
     "metadata": {},
     "output_type": "execute_result"
    }
   ],
   "source": [
    "15//2"
   ]
  },
  {
   "cell_type": "code",
   "execution_count": null,
   "metadata": {
    "collapsed": true
   },
   "outputs": [],
   "source": []
  }
 ],
 "metadata": {
  "kernelspec": {
   "display_name": "Python 3",
   "language": "python",
   "name": "python3"
  },
  "language_info": {
   "codemirror_mode": {
    "name": "ipython",
    "version": 3
   },
   "file_extension": ".py",
   "mimetype": "text/x-python",
   "name": "python",
   "nbconvert_exporter": "python",
   "pygments_lexer": "ipython3",
   "version": "3.6.0"
  }
 },
 "nbformat": 4,
 "nbformat_minor": 2
}
