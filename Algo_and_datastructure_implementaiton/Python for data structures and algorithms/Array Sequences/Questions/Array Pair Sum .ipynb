{
 "cells": [
  {
   "cell_type": "markdown",
   "metadata": {},
   "source": [
    "# Array Pair Sum\n",
    "\n",
    "## Problem\n",
    "\n",
    "Given an integer array, output all the ** *unique* ** pairs that sum up to a specific value **k**.\n",
    "\n",
    "So the input:\n",
    "    \n",
    "    pair_sum([1,3,2,2],4)\n",
    "\n",
    "would return **2** pairs:\n",
    "\n",
    "     (1,3)\n",
    "     (2,2)\n",
    "\n",
    "**NOTE: FOR TESTING PURPOSES CHANGE YOUR FUNCTION SO IT OUTPUTS THE NUMBER OF PAIRS**\n",
    "\n",
    "## Solution\n",
    "\n",
    "Fill out your solution below:"
   ]
  },
  {
   "cell_type": "code",
   "execution_count": 4,
   "metadata": {
    "collapsed": true
   },
   "outputs": [],
   "source": [
    "def pair_sum(arr,k):\n",
    "    # First sort the array\n",
    "    arr = sorted(arr)\n",
    "    print (arr)\n",
    "    \n",
    "    # Edge cases\n",
    "    if len(arr) == 1:\n",
    "        return 0\n",
    "    # 2nd : Sum of  smallest pair is greater than k\n",
    "    elif arr[0]+arr[1] > k:\n",
    "        return 0\n",
    "    # 3rd : Sum of largest pair is smaller than k\n",
    "    elif arr[-1]+arr[-2] < k:\n",
    "        return 0\n",
    "    \n",
    "    i=0\n",
    "    j=len(arr)-1\n",
    "    count = 0\n",
    "    pairs = set()\n",
    "    print(\"Pairs that combine to {}\".format(k))\n",
    "    while(i !=j):\n",
    "        # When we find the pair\n",
    "        if arr[i]+arr[j] == k:\n",
    "            pairs.add((arr[i],arr[j]))\n",
    "            i += 1\n",
    "    \n",
    "        # when the pair sum is less\n",
    "        elif arr[i]+arr[j] < k:\n",
    "            i += 1\n",
    "        # When pair sum is greater\n",
    "        else:\n",
    "            j -= 1\n",
    "    print(pairs)\n",
    "    return len(pairs)\n"
   ]
  },
  {
   "cell_type": "code",
   "execution_count": 5,
   "metadata": {
    "collapsed": false
   },
   "outputs": [
    {
     "name": "stdout",
     "output_type": "stream",
     "text": [
      "[1, 1, 2, 3]\n",
      "Pairs that combine to 3\n",
      "set([(1, 2)])\n"
     ]
    },
    {
     "data": {
      "text/plain": [
       "1"
      ]
     },
     "execution_count": 5,
     "metadata": {},
     "output_type": "execute_result"
    }
   ],
   "source": [
    "pair_sum([1,2,3,1],3)"
   ]
  },
  {
   "cell_type": "markdown",
   "metadata": {},
   "source": [
    "# Test Your Solution"
   ]
  },
  {
   "cell_type": "code",
   "execution_count": 6,
   "metadata": {
    "collapsed": false
   },
   "outputs": [
    {
     "name": "stdout",
     "output_type": "stream",
     "text": [
      "[-1, 1, 2, 3, 4, 5, 5, 6, 7, 8, 9, 11, 13, 13, 14]\n",
      "Pairs that combine to 10\n",
      "set([(5, 5), (2, 8), (-1, 11), (1, 9), (3, 7), (4, 6)])\n",
      "[1, 1, 2, 3]\n",
      "Pairs that combine to 3\n",
      "set([(1, 2)])\n",
      "[1, 2, 2, 3]\n",
      "Pairs that combine to 4\n",
      "set([(1, 3), (2, 2)])\n",
      "ALL TEST CASES PASSED\n"
     ]
    }
   ],
   "source": [
    "\"\"\"\n",
    "RUN THIS CELL TO TEST YOUR SOLUTION\n",
    "\"\"\"\n",
    "from nose.tools import assert_equal\n",
    "\n",
    "class TestPair(object):\n",
    "    \n",
    "    def test(self,sol):\n",
    "        assert_equal(sol([1,9,2,8,3,7,4,6,5,5,13,14,11,13,-1],10),6)\n",
    "        assert_equal(sol([1,2,3,1],3),1)\n",
    "        assert_equal(sol([1,3,2,2],4),2)\n",
    "        print 'ALL TEST CASES PASSED'\n",
    "        \n",
    "#Run tests\n",
    "t = TestPair()\n",
    "t.test(pair_sum)\n",
    "    "
   ]
  }
 ],
 "metadata": {
  "anaconda-cloud": {},
  "kernelspec": {
   "display_name": "Python [default]",
   "language": "python",
   "name": "python2"
  },
  "language_info": {
   "codemirror_mode": {
    "name": "ipython",
    "version": 2
   },
   "file_extension": ".py",
   "mimetype": "text/x-python",
   "name": "python",
   "nbconvert_exporter": "python",
   "pygments_lexer": "ipython2",
   "version": "2.7.12"
  }
 },
 "nbformat": 4,
 "nbformat_minor": 0
}
