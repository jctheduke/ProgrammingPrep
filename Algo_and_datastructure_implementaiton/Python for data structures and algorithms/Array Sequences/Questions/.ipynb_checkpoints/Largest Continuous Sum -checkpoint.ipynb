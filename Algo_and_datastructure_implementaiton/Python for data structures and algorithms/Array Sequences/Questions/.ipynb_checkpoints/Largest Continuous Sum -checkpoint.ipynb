{
 "cells": [
  {
   "cell_type": "markdown",
   "metadata": {},
   "source": [
    "# Largest Continuous Sum\n",
    "\n",
    "## Problem\n",
    "Given an array of integers (positive and negative) find the largest continuous sum. \n",
    "\n",
    "## Solution\n",
    "\n",
    "Fill out your solution below:"
   ]
  },
  {
   "cell_type": "code",
   "execution_count": 18,
   "metadata": {
    "collapsed": false
   },
   "outputs": [],
   "source": [
    "def large_cont_sum(arr):\n",
    "    \"\"\"\n",
    "    Takes in a an array and return the largest sum with start and end indices.\n",
    "    \"\"\"\n",
    "    if len(arr) == 0:\n",
    "        return None,None,None\n",
    "    \n",
    "    elif len(arr) == 1:\n",
    "        return arr[0],0,0\n",
    "    \n",
    "    else:\n",
    "        current_index = 1\n",
    "        if arr[0] > -1:\n",
    "            \n",
    "            current_positive_sum = [arr[0],0,0]\n",
    "            current_negative_sum = [0,0,0]\n",
    "        else:\n",
    "            current_positive_sum = [0,0,0]\n",
    "            current_negative_sum = [arr[0],0,0]\n",
    "            \n",
    "        largest_sum = [arr[0],0,0]\n",
    "    \n",
    "    while(current_index != len(arr)):\n",
    "        \n",
    "        if arr[current_index] < 0 and arr[current_index-1] > -1:\n",
    "            # start of negative sequence\n",
    "            current_negative_sum=[arr[current_index],current_index,current_index]\n",
    "            # Updating the largest sum.\n",
    "            if largest_sum[0] < current_positive_sum[0]:\n",
    "                largest_sum = current_positive_sum\n",
    "        \n",
    "        elif arr[current_index] < 0 and arr[current_index -1] < 0:\n",
    "            # running negative sequence\n",
    "            current_negative_sum =[current_negative_sum[0]+arr[current_index],current_negative_sum[1],current_index]\n",
    "            # if all the arr is negative,smallest negative value will become the largest sum\n",
    "            if largest_sum[0] < arr[current_index]:\n",
    "                largest_sum = [arr[current_index],current_index,current_index]\n",
    "        \n",
    "        elif arr[current_index] > -1 and arr[current_index -1] < 0:\n",
    "            #start of positive sequence\n",
    "            \n",
    "            # if sum of positive and negative sequence is non negative,that sum will be positive sum\n",
    "            if current_positive_sum[0] + current_negative_sum[0] > -1:\n",
    "                current_positive_sum = [current_positive_sum[0] + current_negative_sum[0]+arr[current_index],\\\n",
    "                                        current_positive_sum[1],current_index]\n",
    "            else:\n",
    "                current_positive_sum=[arr[current_index], current_index, current_index]\n",
    "            \n",
    "            if current_positive_sum[0] > largest_sum[0]:\n",
    "                    largest_sum = current_positive_sum\n",
    "        \n",
    "        elif arr[current_index] > -1 and arr[current_index -1] > -1:\n",
    "            # continuation of positive sequnce\n",
    "            \n",
    "            current_positive_sum = [current_positive_sum[0]+arr[current_index],current_positive_sum[1],current_index]\n",
    "            if current_positive_sum[0] > largest_sum[0]:\n",
    "                largest_sum = current_positive_sum\n",
    "        \n",
    "        print(current_index,largest_sum)\n",
    "        current_index += 1\n",
    "    \n",
    "    return largest_sum[0]"
   ]
  },
  {
   "cell_type": "code",
   "execution_count": 21,
   "metadata": {
    "collapsed": false
   },
   "outputs": [
    {
     "name": "stdout",
     "output_type": "stream",
     "text": [
      "1 [3, 0, 1]\n",
      "2 [3, 0, 1]\n",
      "3 [5, 0, 3]\n",
      "4 [9, 0, 4]\n",
      "5 [19, 0, 5]\n",
      "6 [29, 0, 6]\n",
      "7 [29, 0, 6]\n",
      "8 [29, 0, 6]\n"
     ]
    },
    {
     "data": {
      "text/plain": [
       "29"
      ]
     },
     "execution_count": 21,
     "metadata": {},
     "output_type": "execute_result"
    }
   ],
   "source": [
    "large_cont_sum([1,2,-1,3,4,10,10,-10,-1])"
   ]
  },
  {
   "cell_type": "markdown",
   "metadata": {},
   "source": [
    "____\n",
    "Many times in an interview setting the question also requires you to report back the start and end points of the sum. Keep this in mind and see if you can solve that problem, we'll see it in the mock interview section of the course!"
   ]
  },
  {
   "cell_type": "markdown",
   "metadata": {},
   "source": [
    "# Test Your Solution"
   ]
  },
  {
   "cell_type": "code",
   "execution_count": 22,
   "metadata": {
    "collapsed": false
   },
   "outputs": [
    {
     "name": "stdout",
     "output_type": "stream",
     "text": [
      "1 [3, 0, 1]\n",
      "2 [3, 0, 1]\n",
      "3 [5, 0, 3]\n",
      "4 [9, 0, 4]\n",
      "5 [9, 0, 4]\n",
      "1 [3, 0, 1]\n",
      "2 [3, 0, 1]\n",
      "3 [5, 0, 3]\n",
      "4 [9, 0, 4]\n",
      "5 [19, 0, 5]\n",
      "6 [29, 0, 6]\n",
      "7 [29, 0, 6]\n",
      "8 [29, 0, 6]\n",
      "1 [1, 1, 1]\n",
      "ALL TEST CASES PASSED\n"
     ]
    }
   ],
   "source": [
    "from nose.tools import assert_equal\n",
    "\n",
    "class LargeContTest(object):\n",
    "    def test(self,sol):\n",
    "        assert_equal(sol([1,2,-1,3,4,-1]),9)\n",
    "        assert_equal(sol([1,2,-1,3,4,10,10,-10,-1]),29)\n",
    "        assert_equal(sol([-1,1]),1)\n",
    "        print ('ALL TEST CASES PASSED')\n",
    "        \n",
    "#Run Test\n",
    "t = LargeContTest()\n",
    "t.test(large_cont_sum)"
   ]
  },
  {
   "cell_type": "markdown",
   "metadata": {},
   "source": [
    "## Good Job!"
   ]
  }
 ],
 "metadata": {
  "kernelspec": {
   "display_name": "Python 3",
   "language": "python",
   "name": "python3"
  },
  "language_info": {
   "codemirror_mode": {
    "name": "ipython",
    "version": 3
   },
   "file_extension": ".py",
   "mimetype": "text/x-python",
   "name": "python",
   "nbconvert_exporter": "python",
   "pygments_lexer": "ipython3",
   "version": "3.6.0"
  }
 },
 "nbformat": 4,
 "nbformat_minor": 0
}
